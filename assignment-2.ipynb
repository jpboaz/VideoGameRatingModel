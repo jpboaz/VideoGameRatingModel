{
 "cells": [
  {
   "cell_type": "markdown",
   "id": "384c074c",
   "metadata": {
    "papermill": {
     "duration": 0.023258,
     "end_time": "2021-10-24T21:46:19.284985",
     "exception": false,
     "start_time": "2021-10-24T21:46:19.261727",
     "status": "completed"
    },
    "tags": []
   },
   "source": [
    "# Assignment 2 ESRB Ratings\n",
    "\n",
    "#### Info\n",
    "* Julian Boaz\n",
    "* Due: 10/24/2021\n",
    "* Assignment 2\n",
    "\n",
    "---"
   ]
  },
  {
   "cell_type": "code",
   "execution_count": 1,
   "id": "fb867f18",
   "metadata": {
    "execution": {
     "iopub.execute_input": "2021-10-24T21:46:19.330428Z",
     "iopub.status.busy": "2021-10-24T21:46:19.329213Z",
     "iopub.status.idle": "2021-10-24T21:46:20.252478Z",
     "shell.execute_reply": "2021-10-24T21:46:20.251704Z",
     "shell.execute_reply.started": "2021-10-24T21:26:17.395276Z"
    },
    "papermill": {
     "duration": 0.946487,
     "end_time": "2021-10-24T21:46:20.252653",
     "exception": false,
     "start_time": "2021-10-24T21:46:19.306166",
     "status": "completed"
    },
    "tags": []
   },
   "outputs": [],
   "source": [
    "# Importing libraries for data research\n",
    "import numpy as np\n",
    "import seaborn as sns\n",
    "import pandas as pd\n",
    "import matplotlib.pyplot as plt\n",
    "\n",
    "# Importing dataset\n",
    "trainData = pd.read_csv('../input/assignment2data/train.csv')\n",
    "testData = pd.read_csv('../input/assignment2data/eval.csv')"
   ]
  },
  {
   "cell_type": "markdown",
   "id": "0f04c922",
   "metadata": {
    "papermill": {
     "duration": 0.018978,
     "end_time": "2021-10-24T21:46:20.291377",
     "exception": false,
     "start_time": "2021-10-24T21:46:20.272399",
     "status": "completed"
    },
    "tags": []
   },
   "source": [
    "---\n",
    "#### Looking for missing data"
   ]
  },
  {
   "cell_type": "code",
   "execution_count": 2,
   "id": "94bde935",
   "metadata": {
    "execution": {
     "iopub.execute_input": "2021-10-24T21:46:20.334028Z",
     "iopub.status.busy": "2021-10-24T21:46:20.333023Z",
     "iopub.status.idle": "2021-10-24T21:46:20.346301Z",
     "shell.execute_reply": "2021-10-24T21:46:20.346898Z",
     "shell.execute_reply.started": "2021-10-24T21:26:17.572135Z"
    },
    "papermill": {
     "duration": 0.036367,
     "end_time": "2021-10-24T21:46:20.347083",
     "exception": false,
     "start_time": "2021-10-24T21:46:20.310716",
     "status": "completed"
    },
    "tags": []
   },
   "outputs": [
    {
     "name": "stdout",
     "output_type": "stream",
     "text": [
      "Training Data Null Values: \n",
      " id                          0\n",
      "title                       0\n",
      "console                     0\n",
      "alcohol_reference           0\n",
      "animated_blood              0\n",
      "blood                       0\n",
      "blood_and_gore              0\n",
      "cartoon_violence            0\n",
      "crude_humor                 0\n",
      "drug_reference              0\n",
      "fantasy_violence            0\n",
      "intense_violence            0\n",
      "language                    0\n",
      "lyrics                      0\n",
      "mature_humor                0\n",
      "mild_blood                  0\n",
      "mild_cartoon_violence       0\n",
      "mild_fantasy_violence       0\n",
      "mild_language               0\n",
      "mild_lyrics                 0\n",
      "mild_suggestive_themes      0\n",
      "mild_violence               0\n",
      "no_descriptors              0\n",
      "nudity                      0\n",
      "partial_nudity              0\n",
      "sexual_content              0\n",
      "sexual_themes               0\n",
      "simulated_gambling          0\n",
      "strong_janguage             0\n",
      "strong_sexual_content       0\n",
      "suggestive_themes           0\n",
      "use_of_alcohol              0\n",
      "use_of_drugs_and_alcohol    0\n",
      "violence                    0\n",
      "esrb_rating                 0\n",
      "dtype: int64\n",
      "\n",
      "\n",
      "Testing Data Null Values: \n",
      " id                          0\n",
      "console                     0\n",
      "alcohol_reference           0\n",
      "animated_blood              0\n",
      "blood                       0\n",
      "blood_and_gore              0\n",
      "cartoon_violence            0\n",
      "crude_humor                 0\n",
      "drug_reference              0\n",
      "fantasy_violence            0\n",
      "intense_violence            0\n",
      "language                    0\n",
      "lyrics                      0\n",
      "mature_humor                0\n",
      "mild_blood                  0\n",
      "mild_cartoon_violence       0\n",
      "mild_fantasy_violence       0\n",
      "mild_language               0\n",
      "mild_lyrics                 0\n",
      "mild_suggestive_themes      0\n",
      "mild_violence               0\n",
      "no_descriptors              0\n",
      "nudity                      0\n",
      "partial_nudity              0\n",
      "sexual_content              0\n",
      "sexual_themes               0\n",
      "simulated_gambling          0\n",
      "strong_janguage             0\n",
      "strong_sexual_content       0\n",
      "suggestive_themes           0\n",
      "use_of_alcohol              0\n",
      "use_of_drugs_and_alcohol    0\n",
      "violence                    0\n",
      "dtype: int64\n"
     ]
    }
   ],
   "source": [
    "trainDataNull = trainData.isnull().sum()\n",
    "testDataNull = testData.isnull().sum()\n",
    "\n",
    "print(\"Training Data Null Values: \\n\", trainDataNull)\n",
    "print(\"\\n\")\n",
    "print(\"Testing Data Null Values: \\n\", testDataNull)\n"
   ]
  },
  {
   "cell_type": "markdown",
   "id": "7795fc2f",
   "metadata": {
    "papermill": {
     "duration": 0.019902,
     "end_time": "2021-10-24T21:46:20.387326",
     "exception": false,
     "start_time": "2021-10-24T21:46:20.367424",
     "status": "completed"
    },
    "tags": []
   },
   "source": [
    "It looks like theres no missing values which is great, now I'll look for outliers\n",
    "\n",
    "---\n",
    "#### Outliers\n"
   ]
  },
  {
   "cell_type": "code",
   "execution_count": 3,
   "id": "2b7caed9",
   "metadata": {
    "execution": {
     "iopub.execute_input": "2021-10-24T21:46:20.431588Z",
     "iopub.status.busy": "2021-10-24T21:46:20.430846Z",
     "iopub.status.idle": "2021-10-24T21:46:21.453626Z",
     "shell.execute_reply": "2021-10-24T21:46:21.453112Z",
     "shell.execute_reply.started": "2021-10-24T21:26:17.584884Z"
    },
    "papermill": {
     "duration": 1.046199,
     "end_time": "2021-10-24T21:46:21.453764",
     "exception": false,
     "start_time": "2021-10-24T21:46:20.407565",
     "status": "completed"
    },
    "tags": []
   },
   "outputs": [
    {
     "data": {
      "text/plain": [
       "<AxesSubplot:>"
      ]
     },
     "execution_count": 3,
     "metadata": {},
     "output_type": "execute_result"
    },
    {
     "data": {
      "image/png": "[encoded data removed]",
      "text/plain": [
       "<Figure size 432x288 with 1 Axes>"
      ]
     },
     "metadata": {
      "needs_background": "light"
     },
     "output_type": "display_data"
    }
   ],
   "source": [
    "sns.boxplot(data=trainData)"
   ]
  },
  {
   "cell_type": "markdown",
   "id": "f784635b",
   "metadata": {
    "papermill": {
     "duration": 0.02091,
     "end_time": "2021-10-24T21:46:21.495670",
     "exception": false,
     "start_time": "2021-10-24T21:46:21.474760",
     "status": "completed"
    },
    "tags": []
   },
   "source": [
    "This makes sense as all of the data is completely **categorical**, or **binary values**. The outliers will for example be something like the use of alcohol category only having 1 observation resulting in an M rating whereas it has a ton of observations supporting T and ET ratings.\n",
    "\n",
    "---\n",
    "#### Exploring data in order to determine what data will be useful for my models"
   ]
  },
  {
   "cell_type": "markdown",
   "id": "62aff75a",
   "metadata": {
    "papermill": {
     "duration": 0.020666,
     "end_time": "2021-10-24T21:46:21.537318",
     "exception": false,
     "start_time": "2021-10-24T21:46:21.516652",
     "status": "completed"
    },
    "tags": []
   },
   "source": [
    "It seems as if it's possible that there is some overlap for some categories, however I cannot tell whether this holds true for all values. Let's explore this."
   ]
  },
  {
   "cell_type": "code",
   "execution_count": 4,
   "id": "2f66574e",
   "metadata": {
    "execution": {
     "iopub.execute_input": "2021-10-24T21:46:21.583475Z",
     "iopub.status.busy": "2021-10-24T21:46:21.582782Z",
     "iopub.status.idle": "2021-10-24T21:46:46.599907Z",
     "shell.execute_reply": "2021-10-24T21:46:46.598946Z",
     "shell.execute_reply.started": "2021-10-24T21:26:18.442597Z"
    },
    "papermill": {
     "duration": 25.041379,
     "end_time": "2021-10-24T21:46:46.600053",
     "exception": false,
     "start_time": "2021-10-24T21:46:21.558674",
     "status": "completed"
    },
    "tags": []
   },
   "outputs": [
    {
     "name": "stdout",
     "output_type": "stream",
     "text": [
      "The amount of observations:  1421\n",
      "\n",
      "\n",
      "The amount of times MCV occurs:  33\n",
      "The amount of times CV occurs:  27\n",
      "The amount of times CV and MCV equal, CV = 1:  1\n",
      "The amount of times CV and MCV equal, MCV = 1:  1\n",
      "\n",
      "\n",
      "Amount of time language occurs:  156\n",
      "Amount of time language occurs:  166\n",
      "The amount of times SL equals L, L = 1:  23\n",
      "The amount of times SL equals L, SL = 1:  23\n",
      "\n",
      "\n",
      "Amount of times theres a reference to alcohol:  69\n",
      "Amount of times theres a use of alcohol:  24\n",
      "The amount of times a reference to alcohol equals the use of alcohol 8\n",
      "\n",
      "\n",
      "Amount of times no descriptors occurs:  230\n",
      "\n",
      "\n",
      "Amount of times nudity occurs:  19\n",
      "Amount of times partial nudity occurs:  20\n",
      "Amount of time nudity occurs with partial nudity:  0\n",
      "\n",
      "\n",
      "Amount of times theres blood:  312\n",
      "Amount of times theres mild blood:  97\n",
      "The amount of times a reference to alcohol equals the use of alcohol 2\n",
      "\n",
      "\n",
      "Amount of unique game titles:  (1421,)\n"
     ]
    },
    {
     "data": {
      "image/png": "[encoded data removed]",
      "text/plain": [
       "<Figure size 864x216 with 4 Axes>"
      ]
     },
     "metadata": {
      "needs_background": "light"
     },
     "output_type": "display_data"
    },
    {
     "data": {
      "image/png": "[encoded data removed]",
      "text/plain": [
       "<Figure size 864x216 with 4 Axes>"
      ]
     },
     "metadata": {
      "needs_background": "light"
     },
     "output_type": "display_data"
    },
    {
     "data": {
      "image/png": "[encoded data removed]",
      "text/plain": [
       "<Figure size 864x216 with 4 Axes>"
      ]
     },
     "metadata": {
      "needs_background": "light"
     },
     "output_type": "display_data"
    },
    {
     "data": {
      "image/png": "[encoded data removed]",
      "text/plain": [
       "<Figure size 864x216 with 4 Axes>"
      ]
     },
     "metadata": {
      "needs_background": "light"
     },
     "output_type": "display_data"
    },
    {
     "data": {
      "image/png": "[encoded data removed]",
      "text/plain": [
       "<Figure size 864x216 with 4 Axes>"
      ]
     },
     "metadata": {
      "needs_background": "light"
     },
     "output_type": "display_data"
    },
    {
     "data": {
      "image/png": "[encoded data removed]",
      "text/plain": [
       "<Figure size 864x216 with 4 Axes>"
      ]
     },
     "metadata": {
      "needs_background": "light"
     },
     "output_type": "display_data"
    },
    {
     "data": {
      "image/png": "[encoded data removed]",
      "text/plain": [
       "<Figure size 864x216 with 4 Axes>"
      ]
     },
     "metadata": {
      "needs_background": "light"
     },
     "output_type": "display_data"
    },
    {
     "data": {
      "image/png": "[encoded data removed]",
      "text/plain": [
       "<Figure size 864x216 with 4 Axes>"
      ]
     },
     "metadata": {
      "needs_background": "light"
     },
     "output_type": "display_data"
    },
    {
     "data": {
      "image/png": "[encoded data removed]",
      "text/plain": [
       "<Figure size 864x216 with 4 Axes>"
      ]
     },
     "metadata": {
      "needs_background": "light"
     },
     "output_type": "display_data"
    },
    {
     "data": {
      "image/png": "[encoded data removed]",
      "text/plain": [
       "<Figure size 864x216 with 4 Axes>"
      ]
     },
     "metadata": {
      "needs_background": "light"
     },
     "output_type": "display_data"
    },
    {
     "data": {
      "image/png": "[encoded data removed]",
      "text/plain": [
       "<Figure size 864x216 with 4 Axes>"
      ]
     },
     "metadata": {
      "needs_background": "light"
     },
     "output_type": "display_data"
    },
    {
     "data": {
      "image/png": "[encoded data removed]",
      "text/plain": [
       "<Figure size 864x216 with 4 Axes>"
      ]
     },
     "metadata": {
      "needs_background": "light"
     },
     "output_type": "display_data"
    },
    {
     "data": {
      "image/png": "[encoded data removed]",
      "text/plain": [
       "<Figure size 864x216 with 4 Axes>"
      ]
     },
     "metadata": {
      "needs_background": "light"
     },
     "output_type": "display_data"
    },
    {
     "data": {
      "image/png": "[encoded data removed]",
      "text/plain": [
       "<Figure size 864x216 with 4 Axes>"
      ]
     },
     "metadata": {
      "needs_background": "light"
     },
     "output_type": "display_data"
    },
    {
     "data": {
      "image/png": "[encoded data removed]",
      "text/plain": [
       "<Figure size 864x216 with 4 Axes>"
      ]
     },
     "metadata": {
      "needs_background": "light"
     },
     "output_type": "display_data"
    },
    {
     "data": {
      "image/png": "[encoded data removed]",
      "text/plain": [
       "<Figure size 864x216 with 4 Axes>"
      ]
     },
     "metadata": {
      "needs_background": "light"
     },
     "output_type": "display_data"
    },
    {
     "data": {
      "image/png": "[encoded data removed]",
      "text/plain": [
       "<Figure size 864x216 with 4 Axes>"
      ]
     },
     "metadata": {
      "needs_background": "light"
     },
     "output_type": "display_data"
    },
    {
     "data": {
      "image/png": "[encoded data removed]",
      "text/plain": [
       "<Figure size 864x216 with 4 Axes>"
      ]
     },
     "metadata": {
      "needs_background": "light"
     },
     "output_type": "display_data"
    },
    {
     "data": {
      "image/png": "[encoded data removed]",
      "text/plain": [
       "<Figure size 864x216 with 4 Axes>"
      ]
     },
     "metadata": {
      "needs_background": "light"
     },
     "output_type": "display_data"
    },
    {
     "data": {
      "image/png": "[encoded data removed]",
      "text/plain": [
       "<Figure size 864x216 with 4 Axes>"
      ]
     },
     "metadata": {
      "needs_background": "light"
     },
     "output_type": "display_data"
    },
    {
     "data": {
      "image/png": "[encoded data removed]",
      "text/plain": [
       "<Figure size 864x216 with 4 Axes>"
      ]
     },
     "metadata": {
      "needs_background": "light"
     },
     "output_type": "display_data"
    },
    {
     "data": {
      "image/png": "[encoded data removed]",
      "text/plain": [
       "<Figure size 864x216 with 4 Axes>"
      ]
     },
     "metadata": {
      "needs_background": "light"
     },
     "output_type": "display_data"
    },
    {
     "data": {
      "image/png": "[encoded data removed]",
      "text/plain": [
       "<Figure size 864x216 with 4 Axes>"
      ]
     },
     "metadata": {
      "needs_background": "light"
     },
     "output_type": "display_data"
    },
    {
     "data": {
      "image/png": "[encoded data removed]",
      "text/plain": [
       "<Figure size 864x216 with 4 Axes>"
      ]
     },
     "metadata": {
      "needs_background": "light"
     },
     "output_type": "display_data"
    },
    {
     "data": {
      "image/png": "[encoded data removed]",
      "text/plain": [
       "<Figure size 864x216 with 4 Axes>"
      ]
     },
     "metadata": {
      "needs_background": "light"
     },
     "output_type": "display_data"
    },
    {
     "data": {
      "image/png": "[encoded data removed]",
      "text/plain": [
       "<Figure size 864x216 with 4 Axes>"
      ]
     },
     "metadata": {
      "needs_background": "light"
     },
     "output_type": "display_data"
    },
    {
     "data": {
      "image/png": "[encoded data removed]",
      "text/plain": [
       "<Figure size 864x216 with 4 Axes>"
      ]
     },
     "metadata": {
      "needs_background": "light"
     },
     "output_type": "display_data"
    },
    {
     "data": {
      "image/png": "[encoded data removed]",
      "text/plain": [
       "<Figure size 864x216 with 4 Axes>"
      ]
     },
     "metadata": {
      "needs_background": "light"
     },
     "output_type": "display_data"
    },
    {
     "data": {
      "image/png": "[encoded data removed]",
      "text/plain": [
       "<Figure size 864x216 with 4 Axes>"
      ]
     },
     "metadata": {
      "needs_background": "light"
     },
     "output_type": "display_data"
    },
    {
     "data": {
      "image/png": "[encoded data removed]",
      "text/plain": [
       "<Figure size 864x216 with 4 Axes>"
      ]
     },
     "metadata": {
      "needs_background": "light"
     },
     "output_type": "display_data"
    },
    {
     "data": {
      "image/png": "[encoded data removed]",
      "text/plain": [
       "<Figure size 864x216 with 4 Axes>"
      ]
     },
     "metadata": {
      "needs_background": "light"
     },
     "output_type": "display_data"
    },
    {
     "data": {
      "image/png": "[encoded data removed]",
      "text/plain": [
       "<Figure size 864x216 with 4 Axes>"
      ]
     },
     "metadata": {
      "needs_background": "light"
     },
     "output_type": "display_data"
    }
   ],
   "source": [
    "# First to see how many observations there are\n",
    "print(\"The amount of observations: \", len(trainData))\n",
    "print(\"\\n\")\n",
    "\n",
    "# Lets see how many times Cartoon violence and Mild Cartoon Violence equal each other\n",
    "print(\"The amount of times MCV occurs: \", len(trainData.loc[trainData['mild_cartoon_violence'] == 1]))\n",
    "print(\"The amount of times CV occurs: \", len(trainData.loc[trainData['cartoon_violence'] == 1]))\n",
    "print(\"The amount of times CV and MCV equal, CV = 1: \", len(trainData.loc[(trainData['cartoon_violence'] == trainData['mild_cartoon_violence']) & (trainData['cartoon_violence'] == 1)]))\n",
    "print(\"The amount of times CV and MCV equal, MCV = 1: \", len(trainData.loc[(trainData['cartoon_violence'] == trainData['mild_cartoon_violence']) & (trainData['mild_cartoon_violence'] == 1)]))\n",
    "print(\"\\n\")\n",
    "\n",
    "# how many times strong language interacts with language; interesting that the column name is spelled incorrectly\n",
    "print(\"Amount of time language occurs: \", len(trainData.loc[trainData['language'] == 1]))\n",
    "print(\"Amount of time language occurs: \", len(trainData.loc[trainData['strong_janguage'] == 1]))\n",
    "print(\"The amount of times SL equals L, L = 1: \", len(trainData.loc[(trainData['strong_janguage'] == trainData['language']) & trainData['language'] == 1]))\n",
    "print(\"The amount of times SL equals L, SL = 1: \", len(trainData.loc[(trainData['strong_janguage'] == trainData['language']) & trainData['strong_janguage'] == 1]))\n",
    "print(\"\\n\")\n",
    "\n",
    "# alcohol_reference = use of alcohol\n",
    "print(\"Amount of times theres a reference to alcohol: \", len(trainData.loc[trainData['alcohol_reference'] == 1]))\n",
    "print(\"Amount of times theres a use of alcohol: \", len(trainData.loc[trainData['use_of_alcohol'] == 1]))\n",
    "print(\"The amount of times a reference to alcohol equals the use of alcohol\", len(trainData.loc[(trainData['alcohol_reference'] == trainData['use_of_alcohol']) & trainData['alcohol_reference'] == 1]))\n",
    "print(\"\\n\")\n",
    "\n",
    "# how many times no descriptors applies\n",
    "print(\"Amount of times no descriptors occurs: \", len(trainData.loc[trainData['no_descriptors'] == 1]))\n",
    "print(\"\\n\")\n",
    "\n",
    "# how many times nudity and partial nudity occur\n",
    "print(\"Amount of times nudity occurs: \", len(trainData.loc[trainData['nudity'] == 1]))\n",
    "print(\"Amount of times partial nudity occurs: \", len(trainData.loc[trainData['partial_nudity'] == 1]))\n",
    "print(\"Amount of time nudity occurs with partial nudity: \", len(trainData.loc[(trainData['nudity'] == trainData['partial_nudity']) & trainData['nudity'] == 1]))\n",
    "print(\"\\n\")\n",
    "\n",
    "# mild blood and blood\n",
    "print(\"Amount of times theres blood: \", len(trainData.loc[trainData['blood'] == 1]))\n",
    "print(\"Amount of times theres mild blood: \", len(trainData.loc[trainData['mild_blood'] == 1]))\n",
    "print(\"The amount of times a reference to alcohol equals the use of alcohol\", len(trainData.loc[(trainData['blood'] == trainData['mild_blood']) & trainData['blood'] == 1]))\n",
    "print(\"\\n\")\n",
    "\n",
    "titleUnique = trainData['title'].unique()\n",
    "print(\"Amount of unique game titles: \", titleUnique.shape)\n",
    "\n",
    "\n",
    "for x in trainData.drop(['id','title','console'], axis=1):\n",
    "    g = sns.FacetGrid(trainData.drop(['id','title','console'], axis=1), col='esrb_rating')\n",
    "    g.map(sns.histplot, x)\n",
    "    plt.show()\n",
    "\n"
   ]
  },
  {
   "cell_type": "markdown",
   "id": "f3334df8",
   "metadata": {
    "papermill": {
     "duration": 0.043036,
     "end_time": "2021-10-24T21:46:46.686848",
     "exception": false,
     "start_time": "2021-10-24T21:46:46.643812",
     "status": "completed"
    },
    "tags": []
   },
   "source": [
    "Well, this is pretty odd. By reading the documentation on the dataset, or even simply reading the names of the categories, one might interpret that there would be a lot of overlap in terms of how these game titles are scored. However, there is a lot of *inconsistancy* that I've discovered throughout looking through these sets. Some of these categories have extremely low observations associated with them so are they even worth using as a feature for my models? Also some of these columns should intuitively overlap, like blood and mild blood. If there's blood in the game, mild blood should also be in the game, however, not all observations are reported this way, so it's likely that there are tons of different people rating games, and they all interpret the intructions differently on how to handle multiple overlapping categories. This leads me to believe perhaps I should try using different datasets, one where I attempt to group the categories, and one without.\n",
    "\n",
    "Regardless I think I will also make the `esrb_rating` a ordinal category instead of nominal in order to promote these models to interpret it differently."
   ]
  },
  {
   "cell_type": "code",
   "execution_count": 5,
   "id": "d7648f56",
   "metadata": {
    "execution": {
     "iopub.execute_input": "2021-10-24T21:46:46.786597Z",
     "iopub.status.busy": "2021-10-24T21:46:46.785547Z",
     "iopub.status.idle": "2021-10-24T21:46:46.810895Z",
     "shell.execute_reply": "2021-10-24T21:46:46.811577Z",
     "shell.execute_reply.started": "2021-10-24T21:26:40.921014Z"
    },
    "papermill": {
     "duration": 0.081501,
     "end_time": "2021-10-24T21:46:46.811763",
     "exception": false,
     "start_time": "2021-10-24T21:46:46.730262",
     "status": "completed"
    },
    "tags": []
   },
   "outputs": [
    {
     "data": {
      "text/html": [
       "<div>\n",
       "<style scoped>\n",
       "    .dataframe tbody tr th:only-of-type {\n",
       "        vertical-align: middle;\n",
       "    }\n",
       "\n",
       "    .dataframe tbody tr th {\n",
       "        vertical-align: top;\n",
       "    }\n",
       "\n",
       "    .dataframe thead th {\n",
       "        text-align: right;\n",
       "    }\n",
       "</style>\n",
       "<table border=\"1\" class=\"dataframe\">\n",
       "  <thead>\n",
       "    <tr style=\"text-align: right;\">\n",
       "      <th></th>\n",
       "      <th>id</th>\n",
       "      <th>title</th>\n",
       "      <th>console</th>\n",
       "      <th>alcohol_reference</th>\n",
       "      <th>animated_blood</th>\n",
       "      <th>blood</th>\n",
       "      <th>blood_and_gore</th>\n",
       "      <th>cartoon_violence</th>\n",
       "      <th>crude_humor</th>\n",
       "      <th>drug_reference</th>\n",
       "      <th>...</th>\n",
       "      <th>sexual_content</th>\n",
       "      <th>sexual_themes</th>\n",
       "      <th>simulated_gambling</th>\n",
       "      <th>strong_janguage</th>\n",
       "      <th>strong_sexual_content</th>\n",
       "      <th>suggestive_themes</th>\n",
       "      <th>use_of_alcohol</th>\n",
       "      <th>use_of_drugs_and_alcohol</th>\n",
       "      <th>violence</th>\n",
       "      <th>esrb_rating</th>\n",
       "    </tr>\n",
       "  </thead>\n",
       "  <tbody>\n",
       "    <tr>\n",
       "      <th>0</th>\n",
       "      <td>474</td>\n",
       "      <td>Road to Ballhalla</td>\n",
       "      <td>1</td>\n",
       "      <td>0</td>\n",
       "      <td>0</td>\n",
       "      <td>0</td>\n",
       "      <td>0</td>\n",
       "      <td>0</td>\n",
       "      <td>0</td>\n",
       "      <td>0</td>\n",
       "      <td>...</td>\n",
       "      <td>0</td>\n",
       "      <td>0</td>\n",
       "      <td>0</td>\n",
       "      <td>0</td>\n",
       "      <td>0</td>\n",
       "      <td>0</td>\n",
       "      <td>0</td>\n",
       "      <td>0</td>\n",
       "      <td>0</td>\n",
       "      <td>1</td>\n",
       "    </tr>\n",
       "    <tr>\n",
       "      <th>1</th>\n",
       "      <td>475</td>\n",
       "      <td>RollerCoaster Legends II: Thor's Hammer</td>\n",
       "      <td>0</td>\n",
       "      <td>0</td>\n",
       "      <td>0</td>\n",
       "      <td>0</td>\n",
       "      <td>0</td>\n",
       "      <td>0</td>\n",
       "      <td>0</td>\n",
       "      <td>0</td>\n",
       "      <td>...</td>\n",
       "      <td>0</td>\n",
       "      <td>0</td>\n",
       "      <td>0</td>\n",
       "      <td>0</td>\n",
       "      <td>0</td>\n",
       "      <td>0</td>\n",
       "      <td>0</td>\n",
       "      <td>0</td>\n",
       "      <td>0</td>\n",
       "      <td>2</td>\n",
       "    </tr>\n",
       "    <tr>\n",
       "      <th>2</th>\n",
       "      <td>476</td>\n",
       "      <td>Island Time</td>\n",
       "      <td>0</td>\n",
       "      <td>0</td>\n",
       "      <td>0</td>\n",
       "      <td>0</td>\n",
       "      <td>0</td>\n",
       "      <td>0</td>\n",
       "      <td>0</td>\n",
       "      <td>0</td>\n",
       "      <td>...</td>\n",
       "      <td>0</td>\n",
       "      <td>0</td>\n",
       "      <td>0</td>\n",
       "      <td>0</td>\n",
       "      <td>0</td>\n",
       "      <td>0</td>\n",
       "      <td>0</td>\n",
       "      <td>0</td>\n",
       "      <td>0</td>\n",
       "      <td>2</td>\n",
       "    </tr>\n",
       "    <tr>\n",
       "      <th>3</th>\n",
       "      <td>477</td>\n",
       "      <td>Bridge Constructor Portal</td>\n",
       "      <td>1</td>\n",
       "      <td>0</td>\n",
       "      <td>0</td>\n",
       "      <td>0</td>\n",
       "      <td>0</td>\n",
       "      <td>0</td>\n",
       "      <td>0</td>\n",
       "      <td>0</td>\n",
       "      <td>...</td>\n",
       "      <td>0</td>\n",
       "      <td>0</td>\n",
       "      <td>0</td>\n",
       "      <td>0</td>\n",
       "      <td>0</td>\n",
       "      <td>0</td>\n",
       "      <td>0</td>\n",
       "      <td>0</td>\n",
       "      <td>0</td>\n",
       "      <td>2</td>\n",
       "    </tr>\n",
       "    <tr>\n",
       "      <th>4</th>\n",
       "      <td>478</td>\n",
       "      <td>Secret of Mana</td>\n",
       "      <td>0</td>\n",
       "      <td>0</td>\n",
       "      <td>0</td>\n",
       "      <td>0</td>\n",
       "      <td>0</td>\n",
       "      <td>0</td>\n",
       "      <td>0</td>\n",
       "      <td>0</td>\n",
       "      <td>...</td>\n",
       "      <td>0</td>\n",
       "      <td>0</td>\n",
       "      <td>0</td>\n",
       "      <td>0</td>\n",
       "      <td>0</td>\n",
       "      <td>0</td>\n",
       "      <td>0</td>\n",
       "      <td>0</td>\n",
       "      <td>0</td>\n",
       "      <td>2</td>\n",
       "    </tr>\n",
       "    <tr>\n",
       "      <th>5</th>\n",
       "      <td>479</td>\n",
       "      <td>Shikhondo: Soul Eater</td>\n",
       "      <td>0</td>\n",
       "      <td>0</td>\n",
       "      <td>0</td>\n",
       "      <td>0</td>\n",
       "      <td>0</td>\n",
       "      <td>0</td>\n",
       "      <td>0</td>\n",
       "      <td>0</td>\n",
       "      <td>...</td>\n",
       "      <td>1</td>\n",
       "      <td>0</td>\n",
       "      <td>0</td>\n",
       "      <td>0</td>\n",
       "      <td>0</td>\n",
       "      <td>1</td>\n",
       "      <td>0</td>\n",
       "      <td>0</td>\n",
       "      <td>0</td>\n",
       "      <td>3</td>\n",
       "    </tr>\n",
       "    <tr>\n",
       "      <th>6</th>\n",
       "      <td>480</td>\n",
       "      <td>My Universe - Cooking Star Restaurant</td>\n",
       "      <td>0</td>\n",
       "      <td>0</td>\n",
       "      <td>0</td>\n",
       "      <td>0</td>\n",
       "      <td>0</td>\n",
       "      <td>0</td>\n",
       "      <td>0</td>\n",
       "      <td>0</td>\n",
       "      <td>...</td>\n",
       "      <td>0</td>\n",
       "      <td>0</td>\n",
       "      <td>0</td>\n",
       "      <td>0</td>\n",
       "      <td>0</td>\n",
       "      <td>0</td>\n",
       "      <td>0</td>\n",
       "      <td>0</td>\n",
       "      <td>0</td>\n",
       "      <td>1</td>\n",
       "    </tr>\n",
       "    <tr>\n",
       "      <th>7</th>\n",
       "      <td>481</td>\n",
       "      <td>Dark Devotion</td>\n",
       "      <td>0</td>\n",
       "      <td>0</td>\n",
       "      <td>0</td>\n",
       "      <td>0</td>\n",
       "      <td>1</td>\n",
       "      <td>0</td>\n",
       "      <td>0</td>\n",
       "      <td>0</td>\n",
       "      <td>...</td>\n",
       "      <td>0</td>\n",
       "      <td>0</td>\n",
       "      <td>0</td>\n",
       "      <td>0</td>\n",
       "      <td>0</td>\n",
       "      <td>0</td>\n",
       "      <td>0</td>\n",
       "      <td>0</td>\n",
       "      <td>0</td>\n",
       "      <td>4</td>\n",
       "    </tr>\n",
       "    <tr>\n",
       "      <th>8</th>\n",
       "      <td>482</td>\n",
       "      <td>SEUM: Speedrunners From Hell</td>\n",
       "      <td>1</td>\n",
       "      <td>0</td>\n",
       "      <td>0</td>\n",
       "      <td>1</td>\n",
       "      <td>0</td>\n",
       "      <td>0</td>\n",
       "      <td>0</td>\n",
       "      <td>0</td>\n",
       "      <td>...</td>\n",
       "      <td>0</td>\n",
       "      <td>0</td>\n",
       "      <td>0</td>\n",
       "      <td>1</td>\n",
       "      <td>0</td>\n",
       "      <td>0</td>\n",
       "      <td>0</td>\n",
       "      <td>0</td>\n",
       "      <td>1</td>\n",
       "      <td>4</td>\n",
       "    </tr>\n",
       "    <tr>\n",
       "      <th>9</th>\n",
       "      <td>483</td>\n",
       "      <td>Penguin Wars</td>\n",
       "      <td>1</td>\n",
       "      <td>0</td>\n",
       "      <td>0</td>\n",
       "      <td>0</td>\n",
       "      <td>0</td>\n",
       "      <td>0</td>\n",
       "      <td>0</td>\n",
       "      <td>0</td>\n",
       "      <td>...</td>\n",
       "      <td>0</td>\n",
       "      <td>0</td>\n",
       "      <td>0</td>\n",
       "      <td>0</td>\n",
       "      <td>0</td>\n",
       "      <td>0</td>\n",
       "      <td>0</td>\n",
       "      <td>0</td>\n",
       "      <td>0</td>\n",
       "      <td>1</td>\n",
       "    </tr>\n",
       "    <tr>\n",
       "      <th>10</th>\n",
       "      <td>484</td>\n",
       "      <td>Voyage of the Dead</td>\n",
       "      <td>1</td>\n",
       "      <td>0</td>\n",
       "      <td>0</td>\n",
       "      <td>0</td>\n",
       "      <td>1</td>\n",
       "      <td>0</td>\n",
       "      <td>0</td>\n",
       "      <td>0</td>\n",
       "      <td>...</td>\n",
       "      <td>0</td>\n",
       "      <td>0</td>\n",
       "      <td>0</td>\n",
       "      <td>0</td>\n",
       "      <td>1</td>\n",
       "      <td>0</td>\n",
       "      <td>0</td>\n",
       "      <td>0</td>\n",
       "      <td>0</td>\n",
       "      <td>4</td>\n",
       "    </tr>\n",
       "    <tr>\n",
       "      <th>11</th>\n",
       "      <td>485</td>\n",
       "      <td>2MD VR Football</td>\n",
       "      <td>0</td>\n",
       "      <td>0</td>\n",
       "      <td>0</td>\n",
       "      <td>0</td>\n",
       "      <td>0</td>\n",
       "      <td>0</td>\n",
       "      <td>0</td>\n",
       "      <td>0</td>\n",
       "      <td>...</td>\n",
       "      <td>0</td>\n",
       "      <td>0</td>\n",
       "      <td>0</td>\n",
       "      <td>0</td>\n",
       "      <td>0</td>\n",
       "      <td>0</td>\n",
       "      <td>0</td>\n",
       "      <td>0</td>\n",
       "      <td>0</td>\n",
       "      <td>1</td>\n",
       "    </tr>\n",
       "    <tr>\n",
       "      <th>12</th>\n",
       "      <td>486</td>\n",
       "      <td>BALAN WONDERWORLD</td>\n",
       "      <td>1</td>\n",
       "      <td>0</td>\n",
       "      <td>0</td>\n",
       "      <td>0</td>\n",
       "      <td>0</td>\n",
       "      <td>0</td>\n",
       "      <td>0</td>\n",
       "      <td>0</td>\n",
       "      <td>...</td>\n",
       "      <td>0</td>\n",
       "      <td>0</td>\n",
       "      <td>0</td>\n",
       "      <td>0</td>\n",
       "      <td>0</td>\n",
       "      <td>0</td>\n",
       "      <td>0</td>\n",
       "      <td>0</td>\n",
       "      <td>0</td>\n",
       "      <td>2</td>\n",
       "    </tr>\n",
       "    <tr>\n",
       "      <th>13</th>\n",
       "      <td>487</td>\n",
       "      <td>Supermarket Shriek</td>\n",
       "      <td>0</td>\n",
       "      <td>0</td>\n",
       "      <td>0</td>\n",
       "      <td>0</td>\n",
       "      <td>0</td>\n",
       "      <td>1</td>\n",
       "      <td>0</td>\n",
       "      <td>0</td>\n",
       "      <td>...</td>\n",
       "      <td>0</td>\n",
       "      <td>0</td>\n",
       "      <td>0</td>\n",
       "      <td>0</td>\n",
       "      <td>0</td>\n",
       "      <td>0</td>\n",
       "      <td>0</td>\n",
       "      <td>0</td>\n",
       "      <td>0</td>\n",
       "      <td>2</td>\n",
       "    </tr>\n",
       "    <tr>\n",
       "      <th>14</th>\n",
       "      <td>488</td>\n",
       "      <td>Mortal Kombat 11 Aftermath</td>\n",
       "      <td>1</td>\n",
       "      <td>0</td>\n",
       "      <td>0</td>\n",
       "      <td>0</td>\n",
       "      <td>1</td>\n",
       "      <td>0</td>\n",
       "      <td>0</td>\n",
       "      <td>0</td>\n",
       "      <td>...</td>\n",
       "      <td>0</td>\n",
       "      <td>0</td>\n",
       "      <td>0</td>\n",
       "      <td>0</td>\n",
       "      <td>1</td>\n",
       "      <td>0</td>\n",
       "      <td>0</td>\n",
       "      <td>0</td>\n",
       "      <td>0</td>\n",
       "      <td>4</td>\n",
       "    </tr>\n",
       "    <tr>\n",
       "      <th>15</th>\n",
       "      <td>489</td>\n",
       "      <td>Tyr: Chains of Valhalla</td>\n",
       "      <td>0</td>\n",
       "      <td>0</td>\n",
       "      <td>0</td>\n",
       "      <td>0</td>\n",
       "      <td>0</td>\n",
       "      <td>0</td>\n",
       "      <td>0</td>\n",
       "      <td>0</td>\n",
       "      <td>...</td>\n",
       "      <td>0</td>\n",
       "      <td>0</td>\n",
       "      <td>0</td>\n",
       "      <td>0</td>\n",
       "      <td>0</td>\n",
       "      <td>0</td>\n",
       "      <td>0</td>\n",
       "      <td>0</td>\n",
       "      <td>0</td>\n",
       "      <td>2</td>\n",
       "    </tr>\n",
       "    <tr>\n",
       "      <th>16</th>\n",
       "      <td>490</td>\n",
       "      <td>Arcade Spirits</td>\n",
       "      <td>0</td>\n",
       "      <td>0</td>\n",
       "      <td>0</td>\n",
       "      <td>0</td>\n",
       "      <td>0</td>\n",
       "      <td>0</td>\n",
       "      <td>0</td>\n",
       "      <td>1</td>\n",
       "      <td>...</td>\n",
       "      <td>0</td>\n",
       "      <td>0</td>\n",
       "      <td>0</td>\n",
       "      <td>0</td>\n",
       "      <td>0</td>\n",
       "      <td>1</td>\n",
       "      <td>0</td>\n",
       "      <td>0</td>\n",
       "      <td>1</td>\n",
       "      <td>3</td>\n",
       "    </tr>\n",
       "    <tr>\n",
       "      <th>17</th>\n",
       "      <td>491</td>\n",
       "      <td>Hotline Miami</td>\n",
       "      <td>0</td>\n",
       "      <td>0</td>\n",
       "      <td>0</td>\n",
       "      <td>0</td>\n",
       "      <td>1</td>\n",
       "      <td>0</td>\n",
       "      <td>1</td>\n",
       "      <td>0</td>\n",
       "      <td>...</td>\n",
       "      <td>0</td>\n",
       "      <td>0</td>\n",
       "      <td>0</td>\n",
       "      <td>1</td>\n",
       "      <td>0</td>\n",
       "      <td>0</td>\n",
       "      <td>0</td>\n",
       "      <td>0</td>\n",
       "      <td>0</td>\n",
       "      <td>4</td>\n",
       "    </tr>\n",
       "    <tr>\n",
       "      <th>18</th>\n",
       "      <td>492</td>\n",
       "      <td>The Legend of Heroes: Trails of Cold Steel</td>\n",
       "      <td>0</td>\n",
       "      <td>0</td>\n",
       "      <td>0</td>\n",
       "      <td>1</td>\n",
       "      <td>0</td>\n",
       "      <td>0</td>\n",
       "      <td>0</td>\n",
       "      <td>0</td>\n",
       "      <td>...</td>\n",
       "      <td>0</td>\n",
       "      <td>0</td>\n",
       "      <td>0</td>\n",
       "      <td>0</td>\n",
       "      <td>0</td>\n",
       "      <td>0</td>\n",
       "      <td>0</td>\n",
       "      <td>0</td>\n",
       "      <td>0</td>\n",
       "      <td>3</td>\n",
       "    </tr>\n",
       "    <tr>\n",
       "      <th>19</th>\n",
       "      <td>493</td>\n",
       "      <td>Personality and Psychology Premium</td>\n",
       "      <td>0</td>\n",
       "      <td>0</td>\n",
       "      <td>0</td>\n",
       "      <td>0</td>\n",
       "      <td>0</td>\n",
       "      <td>0</td>\n",
       "      <td>0</td>\n",
       "      <td>0</td>\n",
       "      <td>...</td>\n",
       "      <td>0</td>\n",
       "      <td>1</td>\n",
       "      <td>0</td>\n",
       "      <td>0</td>\n",
       "      <td>0</td>\n",
       "      <td>0</td>\n",
       "      <td>0</td>\n",
       "      <td>0</td>\n",
       "      <td>0</td>\n",
       "      <td>4</td>\n",
       "    </tr>\n",
       "  </tbody>\n",
       "</table>\n",
       "<p>20 rows × 35 columns</p>\n",
       "</div>"
      ],
      "text/plain": [
       "     id                                        title  console  \\\n",
       "0   474                            Road to Ballhalla        1   \n",
       "1   475      RollerCoaster Legends II: Thor's Hammer        0   \n",
       "2   476                                  Island Time        0   \n",
       "3   477                    Bridge Constructor Portal        1   \n",
       "4   478                               Secret of Mana        0   \n",
       "5   479                        Shikhondo: Soul Eater        0   \n",
       "6   480        My Universe - Cooking Star Restaurant        0   \n",
       "7   481                                Dark Devotion        0   \n",
       "8   482                 SEUM: Speedrunners From Hell        1   \n",
       "9   483                                 Penguin Wars        1   \n",
       "10  484                           Voyage of the Dead        1   \n",
       "11  485                              2MD VR Football        0   \n",
       "12  486                            BALAN WONDERWORLD        1   \n",
       "13  487                           Supermarket Shriek        0   \n",
       "14  488                   Mortal Kombat 11 Aftermath        1   \n",
       "15  489                      Tyr: Chains of Valhalla        0   \n",
       "16  490                               Arcade Spirits        0   \n",
       "17  491                                Hotline Miami        0   \n",
       "18  492  The Legend of Heroes: Trails of Cold Steel         0   \n",
       "19  493           Personality and Psychology Premium        0   \n",
       "\n",
       "    alcohol_reference  animated_blood  blood  blood_and_gore  \\\n",
       "0                   0               0      0               0   \n",
       "1                   0               0      0               0   \n",
       "2                   0               0      0               0   \n",
       "3                   0               0      0               0   \n",
       "4                   0               0      0               0   \n",
       "5                   0               0      0               0   \n",
       "6                   0               0      0               0   \n",
       "7                   0               0      0               1   \n",
       "8                   0               0      1               0   \n",
       "9                   0               0      0               0   \n",
       "10                  0               0      0               1   \n",
       "11                  0               0      0               0   \n",
       "12                  0               0      0               0   \n",
       "13                  0               0      0               0   \n",
       "14                  0               0      0               1   \n",
       "15                  0               0      0               0   \n",
       "16                  0               0      0               0   \n",
       "17                  0               0      0               1   \n",
       "18                  0               0      1               0   \n",
       "19                  0               0      0               0   \n",
       "\n",
       "    cartoon_violence  crude_humor  drug_reference  ...  sexual_content  \\\n",
       "0                  0            0               0  ...               0   \n",
       "1                  0            0               0  ...               0   \n",
       "2                  0            0               0  ...               0   \n",
       "3                  0            0               0  ...               0   \n",
       "4                  0            0               0  ...               0   \n",
       "5                  0            0               0  ...               1   \n",
       "6                  0            0               0  ...               0   \n",
       "7                  0            0               0  ...               0   \n",
       "8                  0            0               0  ...               0   \n",
       "9                  0            0               0  ...               0   \n",
       "10                 0            0               0  ...               0   \n",
       "11                 0            0               0  ...               0   \n",
       "12                 0            0               0  ...               0   \n",
       "13                 1            0               0  ...               0   \n",
       "14                 0            0               0  ...               0   \n",
       "15                 0            0               0  ...               0   \n",
       "16                 0            0               1  ...               0   \n",
       "17                 0            1               0  ...               0   \n",
       "18                 0            0               0  ...               0   \n",
       "19                 0            0               0  ...               0   \n",
       "\n",
       "    sexual_themes  simulated_gambling  strong_janguage  strong_sexual_content  \\\n",
       "0               0                   0                0                      0   \n",
       "1               0                   0                0                      0   \n",
       "2               0                   0                0                      0   \n",
       "3               0                   0                0                      0   \n",
       "4               0                   0                0                      0   \n",
       "5               0                   0                0                      0   \n",
       "6               0                   0                0                      0   \n",
       "7               0                   0                0                      0   \n",
       "8               0                   0                1                      0   \n",
       "9               0                   0                0                      0   \n",
       "10              0                   0                0                      1   \n",
       "11              0                   0                0                      0   \n",
       "12              0                   0                0                      0   \n",
       "13              0                   0                0                      0   \n",
       "14              0                   0                0                      1   \n",
       "15              0                   0                0                      0   \n",
       "16              0                   0                0                      0   \n",
       "17              0                   0                1                      0   \n",
       "18              0                   0                0                      0   \n",
       "19              1                   0                0                      0   \n",
       "\n",
       "    suggestive_themes  use_of_alcohol  use_of_drugs_and_alcohol  violence  \\\n",
       "0                   0               0                         0         0   \n",
       "1                   0               0                         0         0   \n",
       "2                   0               0                         0         0   \n",
       "3                   0               0                         0         0   \n",
       "4                   0               0                         0         0   \n",
       "5                   1               0                         0         0   \n",
       "6                   0               0                         0         0   \n",
       "7                   0               0                         0         0   \n",
       "8                   0               0                         0         1   \n",
       "9                   0               0                         0         0   \n",
       "10                  0               0                         0         0   \n",
       "11                  0               0                         0         0   \n",
       "12                  0               0                         0         0   \n",
       "13                  0               0                         0         0   \n",
       "14                  0               0                         0         0   \n",
       "15                  0               0                         0         0   \n",
       "16                  1               0                         0         1   \n",
       "17                  0               0                         0         0   \n",
       "18                  0               0                         0         0   \n",
       "19                  0               0                         0         0   \n",
       "\n",
       "    esrb_rating  \n",
       "0             1  \n",
       "1             2  \n",
       "2             2  \n",
       "3             2  \n",
       "4             2  \n",
       "5             3  \n",
       "6             1  \n",
       "7             4  \n",
       "8             4  \n",
       "9             1  \n",
       "10            4  \n",
       "11            1  \n",
       "12            2  \n",
       "13            2  \n",
       "14            4  \n",
       "15            2  \n",
       "16            3  \n",
       "17            4  \n",
       "18            3  \n",
       "19            4  \n",
       "\n",
       "[20 rows x 35 columns]"
      ]
     },
     "execution_count": 5,
     "metadata": {},
     "output_type": "execute_result"
    }
   ],
   "source": [
    "trainData.loc[trainData['esrb_rating'] == 'E', 'esrb_rating'] = 1\n",
    "trainData.loc[trainData['esrb_rating'] == 'ET', 'esrb_rating'] = 2\n",
    "trainData.loc[trainData['esrb_rating'] == 'T', 'esrb_rating'] = 3\n",
    "trainData.loc[trainData['esrb_rating'] == 'M', 'esrb_rating'] = 4\n",
    "\n",
    "trainData.head(20)"
   ]
  },
  {
   "cell_type": "markdown",
   "id": "74426da2",
   "metadata": {
    "papermill": {
     "duration": 0.045219,
     "end_time": "2021-10-24T21:46:46.902007",
     "exception": false,
     "start_time": "2021-10-24T21:46:46.856788",
     "status": "completed"
    },
    "tags": []
   },
   "source": [
    "Okay so now our target vector is ordinal in nature.\n",
    "\n",
    "I think I've decided that I will eliminate individual observations that are less than 5 total in every category as those could possibly be errors, as not consider console or no descriptors as a feature since they don't seem to be reliable data points in any sense, or at least their documentation leads me to believe they are non-helpful."
   ]
  },
  {
   "cell_type": "code",
   "execution_count": 6,
   "id": "c31b0b94",
   "metadata": {
    "execution": {
     "iopub.execute_input": "2021-10-24T21:46:47.006798Z",
     "iopub.status.busy": "2021-10-24T21:46:47.006095Z",
     "iopub.status.idle": "2021-10-24T21:46:47.195879Z",
     "shell.execute_reply": "2021-10-24T21:46:47.195315Z",
     "shell.execute_reply.started": "2021-10-24T21:26:40.952941Z"
    },
    "papermill": {
     "duration": 0.249789,
     "end_time": "2021-10-24T21:46:47.196020",
     "exception": false,
     "start_time": "2021-10-24T21:46:46.946231",
     "status": "completed"
    },
    "tags": []
   },
   "outputs": [
    {
     "name": "stdout",
     "output_type": "stream",
     "text": [
      "1392\n"
     ]
    }
   ],
   "source": [
    "eRatedCols = []\n",
    "etRatedCols = []\n",
    "tRatedCols = []\n",
    "mRatedCols = []\n",
    "\n",
    "# finding which columns have values in E with less than 5 observations total\n",
    "for x in trainData.drop(['id','title','console'], axis=1):\n",
    "    if (len(trainData.loc[(trainData[x] == 1) & (trainData['esrb_rating'] == 1)]) < 5):\n",
    "        #print(\"The amount of observations for \" + x + \" with a rating of E is less than 5\")\n",
    "        eRatedCols.append(x)\n",
    "\n",
    "# finding which columns have values in ET with less than 5 observations\n",
    "for x in trainData.drop(['id','title','console'], axis=1):\n",
    "    if (len(trainData.loc[(trainData[x] == 1) & (trainData['esrb_rating'] == 2)]) < 5):\n",
    "        #print(\"The amount of observations for \" + x + \" with a rating of ET is less than 5\")\n",
    "        etRatedCols.append(x)\n",
    "        \n",
    "# finding which columns have values in T with less than 5 observations\n",
    "for x in trainData.drop(['id','title','console'], axis=1):\n",
    "    if (len(trainData.loc[(trainData[x] == 1) & (trainData['esrb_rating'] == 3)]) < 5):\n",
    "        #print(\"The amount of observations for \" + x + \" with a rating of T is less than 5\")\n",
    "        tRatedCols.append(x)\n",
    "        \n",
    "# finding which columns have values in M with less than 5 observations\n",
    "for x in trainData.drop(['id','title','console'], axis=1):\n",
    "    if (len(trainData.loc[(trainData[x] == 1) & (trainData['esrb_rating'] == 4)]) < 5):\n",
    "        #print(\"The amount of observations for \" + x + \" with a rating of M is less than 5\")\n",
    "        mRatedCols.append(x)\n",
    "\n",
    "# dropping those observations\n",
    "for x in eRatedCols:\n",
    "    trainData.drop(trainData[(trainData[x] == 1) & (trainData['esrb_rating'] == 1)].index, inplace=True)\n",
    "    \n",
    "for x in etRatedCols:\n",
    "    trainData.drop(trainData[(trainData[x] == 1) & (trainData['esrb_rating'] == 2)].index, inplace=True)\n",
    "    \n",
    "for x in tRatedCols:\n",
    "    trainData.drop(trainData[(trainData[x] == 1) & (trainData['esrb_rating'] == 3)].index, inplace=True)\n",
    "    \n",
    "for x in mRatedCols:\n",
    "    trainData.drop(trainData[(trainData[x] == 1) & (trainData['esrb_rating'] == 4)].index, inplace=True)\n",
    "    \n",
    "\n",
    "print(len(trainData))"
   ]
  },
  {
   "cell_type": "markdown",
   "id": "eaebdea5",
   "metadata": {
    "papermill": {
     "duration": 0.044622,
     "end_time": "2021-10-24T21:46:47.285908",
     "exception": false,
     "start_time": "2021-10-24T21:46:47.241286",
     "status": "completed"
    },
    "tags": []
   },
   "source": [
    "So it looks like I didn't erase that much data so I'm hoping I just removed a few outliers from the dataset here. I'm thinking that with decision trees, having these outliers erased could drastically improve my sets here. We shall see!\n",
    "\n",
    "---\n",
    "\n",
    "#### Splitting data set for training purposes"
   ]
  },
  {
   "cell_type": "code",
   "execution_count": 7,
   "id": "e01d9d7c",
   "metadata": {
    "execution": {
     "iopub.execute_input": "2021-10-24T21:46:47.383012Z",
     "iopub.status.busy": "2021-10-24T21:46:47.382179Z",
     "iopub.status.idle": "2021-10-24T21:46:47.550714Z",
     "shell.execute_reply": "2021-10-24T21:46:47.551216Z",
     "shell.execute_reply.started": "2021-10-24T21:26:41.121642Z"
    },
    "papermill": {
     "duration": 0.22085,
     "end_time": "2021-10-24T21:46:47.551382",
     "exception": false,
     "start_time": "2021-10-24T21:46:47.330532",
     "status": "completed"
    },
    "tags": []
   },
   "outputs": [
    {
     "name": "stdout",
     "output_type": "stream",
     "text": [
      "<class 'pandas.core.series.Series'>\n"
     ]
    }
   ],
   "source": [
    "from sklearn.model_selection import train_test_split\n",
    "\n",
    "features = []\n",
    "for x in trainData.drop(['id', 'title', 'console', 'no_descriptors', 'esrb_rating'], axis=1):\n",
    "    features.append(x)\n",
    "    \n",
    "X = pd.get_dummies(trainData[features])\n",
    "y = (trainData['esrb_rating'])\n",
    "y=y.astype('int')\n",
    "evalData = pd.get_dummies(testData[features]) \n",
    "\n",
    "xTrain, xTest, yTrain, yTest = train_test_split(X, y, test_size=0.3)\n",
    "print(type(yTrain))\n"
   ]
  },
  {
   "cell_type": "markdown",
   "id": "78adcc5a",
   "metadata": {
    "papermill": {
     "duration": 0.045277,
     "end_time": "2021-10-24T21:46:47.641738",
     "exception": false,
     "start_time": "2021-10-24T21:46:47.596461",
     "status": "completed"
    },
    "tags": []
   },
   "source": [
    "# Building Models"
   ]
  },
  {
   "cell_type": "code",
   "execution_count": 8,
   "id": "0e908053",
   "metadata": {
    "execution": {
     "iopub.execute_input": "2021-10-24T21:46:47.737429Z",
     "iopub.status.busy": "2021-10-24T21:46:47.736805Z",
     "iopub.status.idle": "2021-10-24T21:46:47.915542Z",
     "shell.execute_reply": "2021-10-24T21:46:47.914902Z",
     "shell.execute_reply.started": "2021-10-24T21:26:41.155030Z"
    },
    "papermill": {
     "duration": 0.227042,
     "end_time": "2021-10-24T21:46:47.915700",
     "exception": false,
     "start_time": "2021-10-24T21:46:47.688658",
     "status": "completed"
    },
    "tags": []
   },
   "outputs": [],
   "source": [
    "from sklearn.linear_model import LogisticRegression\n",
    "from sklearn.svm import SVC\n",
    "from sklearn.tree import DecisionTreeClassifier\n",
    "from sklearn.ensemble import RandomForestClassifier\n",
    "from sklearn.neighbors import KNeighborsClassifier\n",
    "from sklearn.model_selection import GridSearchCV"
   ]
  },
  {
   "cell_type": "code",
   "execution_count": 9,
   "id": "24be7504",
   "metadata": {
    "execution": {
     "iopub.execute_input": "2021-10-24T21:46:48.015225Z",
     "iopub.status.busy": "2021-10-24T21:46:48.014541Z",
     "iopub.status.idle": "2021-10-24T21:46:48.017041Z",
     "shell.execute_reply": "2021-10-24T21:46:48.017676Z",
     "shell.execute_reply.started": "2021-10-24T21:26:41.310046Z"
    },
    "papermill": {
     "duration": 0.056887,
     "end_time": "2021-10-24T21:46:48.017849",
     "exception": false,
     "start_time": "2021-10-24T21:46:47.960962",
     "status": "completed"
    },
    "tags": []
   },
   "outputs": [],
   "source": [
    "# parameter grids for each model\n",
    "lrParams = {    \n",
    "    'C': [0.001,0.01,0.1,1,10,100,1000]    \n",
    "}\n",
    "\n",
    "svcParams = {\n",
    "    'C': [0.001,0.01,0.1,1,10,100,1000]    \n",
    "}\n",
    "\n",
    "dtParams = {\n",
    "    'max_depth': np.arange(1,21),\n",
    "    'min_samples_leaf': np.arange(1,21)\n",
    "}\n",
    "\n",
    "rfParams = {\n",
    "    'max_depth': np.arange(1,21),\n",
    "    'n_estimators': [100,200,300,400,500],\n",
    "    'max_features': ['auto', 'sqrt'],\n",
    "    'criterion': ['gini', 'entropy']\n",
    "}\n",
    "\n",
    "knnParams = {\n",
    "    'n_neighbors': [1,3,5,7,9,11,13,15,17,19],\n",
    "    'weights': ['uniform', 'distance']\n",
    "}"
   ]
  },
  {
   "cell_type": "code",
   "execution_count": 10,
   "id": "1926f7ec",
   "metadata": {
    "execution": {
     "iopub.execute_input": "2021-10-24T21:46:48.112643Z",
     "iopub.status.busy": "2021-10-24T21:46:48.111956Z",
     "iopub.status.idle": "2021-10-24T21:46:49.848377Z",
     "shell.execute_reply": "2021-10-24T21:46:49.849721Z",
     "shell.execute_reply.started": "2021-10-24T21:26:41.318111Z"
    },
    "papermill": {
     "duration": 1.787161,
     "end_time": "2021-10-24T21:46:49.849951",
     "exception": false,
     "start_time": "2021-10-24T21:46:48.062790",
     "status": "completed"
    },
    "tags": []
   },
   "outputs": [
    {
     "name": "stdout",
     "output_type": "stream",
     "text": [
      "The accuracy of the Logistic Regression Model is:  0.8501295268305578\n"
     ]
    }
   ],
   "source": [
    "# now it's time to perform the gridsearch , I will use individual code blocks for this so it doesn't take ten years\n",
    "# this will be for the logristic regression algorithm\n",
    "lrGrid = GridSearchCV(LogisticRegression(multi_class = 'multinomial', solver='newton-cg'), param_grid = lrParams, scoring='accuracy')\n",
    "lrGrid.fit(xTrain, yTrain)\n",
    "#lr = LogisticRegression()\n",
    "#lr.fit(xTrain,yTrain)\n",
    "print('The accuracy of the Logistic Regression Model is: ', lrGrid.best_score_)"
   ]
  },
  {
   "cell_type": "code",
   "execution_count": 11,
   "id": "83e2754a",
   "metadata": {
    "execution": {
     "iopub.execute_input": "2021-10-24T21:46:49.947830Z",
     "iopub.status.busy": "2021-10-24T21:46:49.947150Z",
     "iopub.status.idle": "2021-10-24T21:46:51.618229Z",
     "shell.execute_reply": "2021-10-24T21:46:51.618803Z",
     "shell.execute_reply.started": "2021-10-24T21:26:42.770639Z"
    },
    "papermill": {
     "duration": 1.722472,
     "end_time": "2021-10-24T21:46:51.618983",
     "exception": false,
     "start_time": "2021-10-24T21:46:49.896511",
     "status": "completed"
    },
    "tags": []
   },
   "outputs": [
    {
     "name": "stdout",
     "output_type": "stream",
     "text": [
      "The accuracy of the Support Vector Machine Classifier is:  0.854221517314301\n"
     ]
    }
   ],
   "source": [
    "# grid search for SVC\n",
    "svcGrid = GridSearchCV(SVC(), param_grid = svcParams, scoring = 'accuracy')\n",
    "svcGrid.fit(xTrain, yTrain)\n",
    "\n",
    "print('The accuracy of the Support Vector Machine Classifier is: ', svcGrid.best_score_)"
   ]
  },
  {
   "cell_type": "code",
   "execution_count": 12,
   "id": "18122a72",
   "metadata": {
    "execution": {
     "iopub.execute_input": "2021-10-24T21:46:51.716423Z",
     "iopub.status.busy": "2021-10-24T21:46:51.715756Z",
     "iopub.status.idle": "2021-10-24T21:47:02.146281Z",
     "shell.execute_reply": "2021-10-24T21:47:02.145732Z",
     "shell.execute_reply.started": "2021-10-24T21:26:44.430179Z"
    },
    "papermill": {
     "duration": 10.481446,
     "end_time": "2021-10-24T21:47:02.146423",
     "exception": false,
     "start_time": "2021-10-24T21:46:51.664977",
     "status": "completed"
    },
    "tags": []
   },
   "outputs": [
    {
     "name": "stdout",
     "output_type": "stream",
     "text": [
      "The accuracy of the Decision Tree is:  0.8419138250066084\n"
     ]
    }
   ],
   "source": [
    "# grid search for Decision Tree\n",
    "dtGrid = GridSearchCV(DecisionTreeClassifier(), param_grid = dtParams, scoring = 'accuracy')\n",
    "dtGrid.fit(xTrain,yTrain)\n",
    "\n",
    "print('The accuracy of the Decision Tree is: ', dtGrid.best_score_)"
   ]
  },
  {
   "cell_type": "code",
   "execution_count": 13,
   "id": "fa5cceb5",
   "metadata": {
    "execution": {
     "iopub.execute_input": "2021-10-24T21:47:02.244571Z",
     "iopub.status.busy": "2021-10-24T21:47:02.243862Z",
     "iopub.status.idle": "2021-10-24T22:08:56.591677Z",
     "shell.execute_reply": "2021-10-24T22:08:56.592511Z",
     "shell.execute_reply.started": "2021-10-24T21:26:53.722879Z"
    },
    "papermill": {
     "duration": 1314.400117,
     "end_time": "2021-10-24T22:08:56.592841",
     "exception": false,
     "start_time": "2021-10-24T21:47:02.192724",
     "status": "completed"
    },
    "tags": []
   },
   "outputs": [
    {
     "name": "stdout",
     "output_type": "stream",
     "text": [
      "The accuracy of the Random Forest is:  0.8501348136399681\n"
     ]
    }
   ],
   "source": [
    "# grid search for Random Forest\n",
    "rfGrid = GridSearchCV(RandomForestClassifier(), param_grid = rfParams, scoring = 'accuracy')\n",
    "rfGrid.fit(xTrain,yTrain)\n",
    "\n",
    "print('The accuracy of the Random Forest is: ', rfGrid.best_score_)"
   ]
  },
  {
   "cell_type": "code",
   "execution_count": 14,
   "id": "ceb8f8cb",
   "metadata": {
    "execution": {
     "iopub.execute_input": "2021-10-24T22:08:56.691280Z",
     "iopub.status.busy": "2021-10-24T22:08:56.690631Z",
     "iopub.status.idle": "2021-10-24T22:08:58.553707Z",
     "shell.execute_reply": "2021-10-24T22:08:58.554230Z",
     "shell.execute_reply.started": "2021-10-24T21:43:13.324800Z"
    },
    "papermill": {
     "duration": 1.914057,
     "end_time": "2021-10-24T22:08:58.554411",
     "exception": false,
     "start_time": "2021-10-24T22:08:56.640354",
     "status": "completed"
    },
    "tags": []
   },
   "outputs": [
    {
     "name": "stdout",
     "output_type": "stream",
     "text": [
      "The accuracy of the Nearest Neighbors model is:  0.8326619085381971\n"
     ]
    }
   ],
   "source": [
    "# grid search for K Nearest Neighbors\n",
    "knnGrid = GridSearchCV(KNeighborsClassifier(), param_grid = knnParams, scoring = 'accuracy')\n",
    "knnGrid.fit(xTrain,yTrain)\n",
    "\n",
    "print('The accuracy of the Nearest Neighbors model is: ', knnGrid.best_score_)"
   ]
  },
  {
   "cell_type": "markdown",
   "id": "34637cdc",
   "metadata": {
    "papermill": {
     "duration": 0.046929,
     "end_time": "2021-10-24T22:08:58.648725",
     "exception": false,
     "start_time": "2021-10-24T22:08:58.601796",
     "status": "completed"
    },
    "tags": []
   },
   "source": [
    "---\n",
    "# Predictions\n"
   ]
  },
  {
   "cell_type": "code",
   "execution_count": 15,
   "id": "afec2363",
   "metadata": {
    "execution": {
     "iopub.execute_input": "2021-10-24T22:08:58.746712Z",
     "iopub.status.busy": "2021-10-24T22:08:58.746011Z",
     "iopub.status.idle": "2021-10-24T22:08:58.969414Z",
     "shell.execute_reply": "2021-10-24T22:08:58.969985Z",
     "shell.execute_reply.started": "2021-10-24T21:43:15.064460Z"
    },
    "papermill": {
     "duration": 0.274243,
     "end_time": "2021-10-24T22:08:58.970196",
     "exception": false,
     "start_time": "2021-10-24T22:08:58.695953",
     "status": "completed"
    },
    "tags": []
   },
   "outputs": [
    {
     "name": "stdout",
     "output_type": "stream",
     "text": [
      "Lr accuracy:  0.8636363636363636\n",
      "SVC accuracy:  0.8755980861244019\n",
      "DT accuracy:  0.8660287081339713\n",
      "RF accuracy:  0.8660287081339713\n",
      "KNN accuracy:  0.8397129186602871\n"
     ]
    },
    {
     "data": {
      "text/html": [
       "<div>\n",
       "<style scoped>\n",
       "    .dataframe tbody tr th:only-of-type {\n",
       "        vertical-align: middle;\n",
       "    }\n",
       "\n",
       "    .dataframe tbody tr th {\n",
       "        vertical-align: top;\n",
       "    }\n",
       "\n",
       "    .dataframe thead th {\n",
       "        text-align: right;\n",
       "    }\n",
       "</style>\n",
       "<table border=\"1\" class=\"dataframe\">\n",
       "  <thead>\n",
       "    <tr style=\"text-align: right;\">\n",
       "      <th></th>\n",
       "      <th>mean_fit_time</th>\n",
       "      <th>std_fit_time</th>\n",
       "      <th>mean_score_time</th>\n",
       "      <th>std_score_time</th>\n",
       "      <th>split0_test_score</th>\n",
       "      <th>split1_test_score</th>\n",
       "      <th>split2_test_score</th>\n",
       "      <th>split3_test_score</th>\n",
       "      <th>split4_test_score</th>\n",
       "      <th>mean_test_score</th>\n",
       "      <th>std_test_score</th>\n",
       "      <th>rank_test_score</th>\n",
       "    </tr>\n",
       "  </thead>\n",
       "  <tbody>\n",
       "    <tr>\n",
       "      <th>count</th>\n",
       "      <td>20.000000</td>\n",
       "      <td>20.000000</td>\n",
       "      <td>20.000000</td>\n",
       "      <td>20.000000</td>\n",
       "      <td>20.000000</td>\n",
       "      <td>20.000000</td>\n",
       "      <td>20.000000</td>\n",
       "      <td>20.000000</td>\n",
       "      <td>20.000000</td>\n",
       "      <td>20.000000</td>\n",
       "      <td>20.000000</td>\n",
       "      <td>20.000000</td>\n",
       "    </tr>\n",
       "    <tr>\n",
       "      <th>mean</th>\n",
       "      <td>0.004590</td>\n",
       "      <td>0.000142</td>\n",
       "      <td>0.013297</td>\n",
       "      <td>0.000203</td>\n",
       "      <td>0.802564</td>\n",
       "      <td>0.791026</td>\n",
       "      <td>0.816667</td>\n",
       "      <td>0.797949</td>\n",
       "      <td>0.814948</td>\n",
       "      <td>0.804631</td>\n",
       "      <td>0.017338</td>\n",
       "      <td>10.450000</td>\n",
       "    </tr>\n",
       "    <tr>\n",
       "      <th>std</th>\n",
       "      <td>0.000127</td>\n",
       "      <td>0.000194</td>\n",
       "      <td>0.003307</td>\n",
       "      <td>0.000173</td>\n",
       "      <td>0.025856</td>\n",
       "      <td>0.034657</td>\n",
       "      <td>0.027130</td>\n",
       "      <td>0.021783</td>\n",
       "      <td>0.035116</td>\n",
       "      <td>0.024862</td>\n",
       "      <td>0.005505</td>\n",
       "      <td>5.862234</td>\n",
       "    </tr>\n",
       "    <tr>\n",
       "      <th>min</th>\n",
       "      <td>0.004463</td>\n",
       "      <td>0.000015</td>\n",
       "      <td>0.009019</td>\n",
       "      <td>0.000072</td>\n",
       "      <td>0.753846</td>\n",
       "      <td>0.743590</td>\n",
       "      <td>0.774359</td>\n",
       "      <td>0.743590</td>\n",
       "      <td>0.726804</td>\n",
       "      <td>0.760745</td>\n",
       "      <td>0.008541</td>\n",
       "      <td>1.000000</td>\n",
       "    </tr>\n",
       "    <tr>\n",
       "      <th>25%</th>\n",
       "      <td>0.004519</td>\n",
       "      <td>0.000054</td>\n",
       "      <td>0.010207</td>\n",
       "      <td>0.000130</td>\n",
       "      <td>0.782051</td>\n",
       "      <td>0.748718</td>\n",
       "      <td>0.798718</td>\n",
       "      <td>0.793590</td>\n",
       "      <td>0.807990</td>\n",
       "      <td>0.779803</td>\n",
       "      <td>0.012778</td>\n",
       "      <td>5.750000</td>\n",
       "    </tr>\n",
       "    <tr>\n",
       "      <th>50%</th>\n",
       "      <td>0.004554</td>\n",
       "      <td>0.000090</td>\n",
       "      <td>0.013049</td>\n",
       "      <td>0.000151</td>\n",
       "      <td>0.810256</td>\n",
       "      <td>0.802564</td>\n",
       "      <td>0.815385</td>\n",
       "      <td>0.805128</td>\n",
       "      <td>0.829897</td>\n",
       "      <td>0.808023</td>\n",
       "      <td>0.015765</td>\n",
       "      <td>10.500000</td>\n",
       "    </tr>\n",
       "    <tr>\n",
       "      <th>75%</th>\n",
       "      <td>0.004607</td>\n",
       "      <td>0.000120</td>\n",
       "      <td>0.016481</td>\n",
       "      <td>0.000238</td>\n",
       "      <td>0.816667</td>\n",
       "      <td>0.820513</td>\n",
       "      <td>0.842308</td>\n",
       "      <td>0.810256</td>\n",
       "      <td>0.835052</td>\n",
       "      <td>0.827018</td>\n",
       "      <td>0.021096</td>\n",
       "      <td>15.250000</td>\n",
       "    </tr>\n",
       "    <tr>\n",
       "      <th>max</th>\n",
       "      <td>0.004924</td>\n",
       "      <td>0.000708</td>\n",
       "      <td>0.017418</td>\n",
       "      <td>0.000882</td>\n",
       "      <td>0.841026</td>\n",
       "      <td>0.835897</td>\n",
       "      <td>0.851282</td>\n",
       "      <td>0.820513</td>\n",
       "      <td>0.850515</td>\n",
       "      <td>0.832662</td>\n",
       "      <td>0.027519</td>\n",
       "      <td>20.000000</td>\n",
       "    </tr>\n",
       "  </tbody>\n",
       "</table>\n",
       "</div>"
      ],
      "text/plain": [
       "       mean_fit_time  std_fit_time  mean_score_time  std_score_time  \\\n",
       "count      20.000000     20.000000        20.000000       20.000000   \n",
       "mean        0.004590      0.000142         0.013297        0.000203   \n",
       "std         0.000127      0.000194         0.003307        0.000173   \n",
       "min         0.004463      0.000015         0.009019        0.000072   \n",
       "25%         0.004519      0.000054         0.010207        0.000130   \n",
       "50%         0.004554      0.000090         0.013049        0.000151   \n",
       "75%         0.004607      0.000120         0.016481        0.000238   \n",
       "max         0.004924      0.000708         0.017418        0.000882   \n",
       "\n",
       "       split0_test_score  split1_test_score  split2_test_score  \\\n",
       "count          20.000000          20.000000          20.000000   \n",
       "mean            0.802564           0.791026           0.816667   \n",
       "std             0.025856           0.034657           0.027130   \n",
       "min             0.753846           0.743590           0.774359   \n",
       "25%             0.782051           0.748718           0.798718   \n",
       "50%             0.810256           0.802564           0.815385   \n",
       "75%             0.816667           0.820513           0.842308   \n",
       "max             0.841026           0.835897           0.851282   \n",
       "\n",
       "       split3_test_score  split4_test_score  mean_test_score  std_test_score  \\\n",
       "count          20.000000          20.000000        20.000000       20.000000   \n",
       "mean            0.797949           0.814948         0.804631        0.017338   \n",
       "std             0.021783           0.035116         0.024862        0.005505   \n",
       "min             0.743590           0.726804         0.760745        0.008541   \n",
       "25%             0.793590           0.807990         0.779803        0.012778   \n",
       "50%             0.805128           0.829897         0.808023        0.015765   \n",
       "75%             0.810256           0.835052         0.827018        0.021096   \n",
       "max             0.820513           0.850515         0.832662        0.027519   \n",
       "\n",
       "       rank_test_score  \n",
       "count        20.000000  \n",
       "mean         10.450000  \n",
       "std           5.862234  \n",
       "min           1.000000  \n",
       "25%           5.750000  \n",
       "50%          10.500000  \n",
       "75%          15.250000  \n",
       "max          20.000000  "
      ]
     },
     "execution_count": 15,
     "metadata": {},
     "output_type": "execute_result"
    }
   ],
   "source": [
    "from sklearn.metrics import accuracy_score\n",
    "\n",
    "# predicting over the test split\n",
    "lrPrediction = lrGrid.predict(xTest)\n",
    "svcPrediction = svcGrid.predict(xTest)\n",
    "dtPrediction = dtGrid.predict(xTest)\n",
    "rfPrediction = rfGrid.predict(xTest)\n",
    "knnPrediction = knnGrid.predict(xTest)\n",
    "\n",
    "# printing accuracy\n",
    "print('Lr accuracy: ', accuracy_score(yTest,lrPrediction))\n",
    "print('SVC accuracy: ', accuracy_score(yTest,svcPrediction))\n",
    "print('DT accuracy: ', accuracy_score(yTest,dtPrediction))\n",
    "print('RF accuracy: ', accuracy_score(yTest,rfPrediction))\n",
    "print('KNN accuracy: ', accuracy_score(yTest,knnPrediction))\n",
    "\n",
    "# printing results\n",
    "distLRDF = pd.DataFrame(lrGrid.cv_results_)\n",
    "distLRDF.describe()\n",
    "\n",
    "distSVCDF = pd.DataFrame(svcGrid.cv_results_)\n",
    "distSVCDF.describe()\n",
    "\n",
    "distDTDF = pd.DataFrame(dtGrid.cv_results_)\n",
    "distDTDF.describe()\n",
    "\n",
    "distRFDF = pd.DataFrame(rfGrid.cv_results_)\n",
    "distRFDF.describe()\n",
    "\n",
    "distKNNDF = pd.DataFrame(knnGrid.cv_results_)\n",
    "distKNNDF.describe()"
   ]
  },
  {
   "cell_type": "markdown",
   "id": "ce2919c8",
   "metadata": {
    "papermill": {
     "duration": 0.048528,
     "end_time": "2021-10-24T22:08:59.066894",
     "exception": false,
     "start_time": "2021-10-24T22:08:59.018366",
     "status": "completed"
    },
    "tags": []
   },
   "source": [
    "Looks like our regression algorithm is going to be out best bet! Lets apply it to our evaluation set!"
   ]
  },
  {
   "cell_type": "code",
   "execution_count": 16,
   "id": "62ea4767",
   "metadata": {
    "execution": {
     "iopub.execute_input": "2021-10-24T22:08:59.179249Z",
     "iopub.status.busy": "2021-10-24T22:08:59.175206Z",
     "iopub.status.idle": "2021-10-24T22:08:59.193891Z",
     "shell.execute_reply": "2021-10-24T22:08:59.194703Z",
     "shell.execute_reply.started": "2021-10-24T21:43:15.306904Z"
    },
    "papermill": {
     "duration": 0.079964,
     "end_time": "2021-10-24T22:08:59.194940",
     "exception": false,
     "start_time": "2021-10-24T22:08:59.114976",
     "status": "completed"
    },
    "tags": []
   },
   "outputs": [
    {
     "name": "stdout",
     "output_type": "stream",
     "text": [
      "      id esrb_rating\n",
      "0      0           E\n",
      "1      1           T\n",
      "2      2          ET\n",
      "3      3           E\n",
      "4      4          ET\n",
      "5      5           M\n",
      "6      6           T\n",
      "7      7           E\n",
      "8      8          ET\n",
      "9      9          ET\n",
      "10    10          ET\n",
      "11    11           T\n",
      "12    12          ET\n",
      "13    13           E\n",
      "14    14           T\n",
      "15    15           T\n",
      "16    16           E\n",
      "17    17           E\n",
      "18    18           M\n",
      "19    19           T\n",
      "20    20          ET\n",
      "21    21           T\n",
      "22    22           T\n",
      "23    23           M\n",
      "24    24           E\n",
      "25    25           E\n",
      "26    26           T\n",
      "27    27           M\n",
      "28    28           M\n",
      "29    29           T\n",
      "30    30           T\n",
      "31    31           E\n",
      "32    32           T\n",
      "33    33           T\n",
      "34    34          ET\n",
      "35    35           T\n",
      "36    36           E\n",
      "37    37           E\n",
      "38    38           T\n",
      "39    39           T\n",
      "40    40           E\n",
      "41    41           E\n",
      "42    42           T\n",
      "43    43          ET\n",
      "44    44           T\n",
      "45    45           T\n",
      "46    46           T\n",
      "47    47           T\n",
      "48    48           M\n",
      "49    49           E\n",
      "50    50           E\n",
      "51    51          ET\n",
      "52    52          ET\n",
      "53    53          ET\n",
      "54    54           T\n",
      "55    55           T\n",
      "56    56           T\n",
      "57    57           E\n",
      "58    58           E\n",
      "59    59           E\n",
      "60    60          ET\n",
      "61    61          ET\n",
      "62    62           T\n",
      "63    63           E\n",
      "64    64           T\n",
      "65    65           E\n",
      "66    66           T\n",
      "67    67           T\n",
      "68    68           M\n",
      "69    69           E\n",
      "70    70           M\n",
      "71    71           T\n",
      "72    72           T\n",
      "73    73           T\n",
      "74    74           E\n",
      "75    75           M\n",
      "76    76           E\n",
      "77    77           E\n",
      "78    78           E\n",
      "79    79           E\n",
      "80    80           M\n",
      "81    81           E\n",
      "82    82           M\n",
      "83    83          ET\n",
      "84    84           T\n",
      "85    85           M\n",
      "86    86           E\n",
      "87    87           E\n",
      "88    88           E\n",
      "89    89           E\n",
      "90    90           E\n",
      "91    91           M\n",
      "92    92           T\n",
      "93    93           M\n",
      "94    94           M\n",
      "95    95           E\n",
      "96    96           T\n",
      "97    97          ET\n",
      "98    98           T\n",
      "99    99           M\n",
      "100  100           T\n",
      "101  101           E\n",
      "102  102           T\n",
      "103  103           T\n",
      "104  104           M\n",
      "105  105           T\n",
      "106  106           E\n",
      "107  107          ET\n",
      "108  108           T\n",
      "109  109           E\n",
      "110  110          ET\n",
      "111  111          ET\n",
      "112  112           E\n",
      "113  113           T\n",
      "114  114           T\n",
      "115  115           E\n",
      "116  116          ET\n",
      "117  117           T\n",
      "118  118           T\n",
      "119  119           T\n",
      "120  120          ET\n",
      "121  121           T\n",
      "122  122           T\n",
      "123  123           T\n",
      "124  124           E\n",
      "125  125           T\n",
      "126  126           M\n",
      "127  127           T\n",
      "128  128           T\n",
      "129  129           M\n",
      "130  130           T\n",
      "131  131           T\n",
      "132  132           M\n",
      "133  133          ET\n",
      "134  134           M\n",
      "135  135           E\n",
      "136  136           T\n",
      "137  137           E\n",
      "138  138           T\n",
      "139  139           T\n",
      "140  140           M\n",
      "141  141          ET\n",
      "142  142          ET\n",
      "143  143           T\n",
      "144  144           E\n",
      "145  145           E\n",
      "146  146           T\n",
      "147  147           T\n",
      "148  148           E\n",
      "149  149           T\n",
      "150  150           T\n",
      "151  151           T\n",
      "152  152           T\n",
      "153  153          ET\n",
      "154  154           T\n",
      "155  155           T\n",
      "156  156           E\n",
      "157  157           E\n",
      "158  158           T\n",
      "159  159          ET\n",
      "160  160           E\n",
      "161  161           E\n",
      "162  162           M\n",
      "163  163          ET\n",
      "164  164           T\n",
      "165  165          ET\n",
      "166  166           M\n",
      "167  167           T\n",
      "168  168          ET\n",
      "169  169          ET\n",
      "170  170           E\n",
      "171  171           E\n",
      "172  172           E\n",
      "173  173           M\n",
      "174  174           E\n",
      "175  175           E\n",
      "176  176          ET\n",
      "177  177           T\n",
      "178  178           M\n",
      "179  179           M\n",
      "180  180           M\n",
      "181  181           T\n",
      "182  182          ET\n",
      "183  183           T\n",
      "184  184          ET\n",
      "185  185           T\n",
      "186  186          ET\n",
      "187  187          ET\n",
      "188  188           E\n",
      "189  189          ET\n",
      "190  190           T\n",
      "191  191          ET\n",
      "192  192           T\n",
      "193  193           E\n",
      "194  194           E\n",
      "195  195           M\n",
      "196  196          ET\n",
      "197  197           T\n",
      "198  198           T\n",
      "199  199           T\n",
      "200  200           M\n",
      "201  201           M\n",
      "202  202          ET\n",
      "203  203          ET\n",
      "204  204           M\n",
      "205  205           E\n",
      "206  206           M\n",
      "207  207           M\n",
      "208  208           M\n",
      "209  209          ET\n",
      "210  210           T\n",
      "211  211           T\n",
      "212  212          ET\n",
      "213  213           E\n",
      "214  214          ET\n",
      "215  215           E\n",
      "216  216           E\n",
      "217  217           T\n",
      "218  218           E\n",
      "219  219           T\n",
      "220  220           T\n",
      "221  221           E\n",
      "222  222           T\n",
      "223  223           T\n",
      "224  224           M\n",
      "225  225           T\n",
      "226  226           T\n",
      "227  227          ET\n",
      "228  228           E\n",
      "229  229           E\n",
      "230  230           M\n",
      "231  231           E\n",
      "232  232           T\n",
      "233  233          ET\n",
      "234  234           T\n",
      "235  235           M\n",
      "236  236           M\n",
      "237  237           T\n",
      "238  238           T\n",
      "239  239           M\n",
      "240  240           E\n",
      "241  241           M\n",
      "242  242           M\n",
      "243  243           E\n",
      "244  244           M\n",
      "245  245          ET\n",
      "246  246           M\n",
      "247  247           T\n",
      "248  248           M\n",
      "249  249           T\n",
      "250  250           E\n",
      "251  251          ET\n",
      "252  252           M\n",
      "253  253           E\n",
      "254  254           E\n",
      "255  255           M\n",
      "256  256           T\n",
      "257  257           M\n",
      "258  258          ET\n",
      "259  259           T\n",
      "260  260           E\n",
      "261  261           M\n",
      "262  262           T\n",
      "263  263           M\n",
      "264  264          ET\n",
      "265  265           T\n",
      "266  266           E\n",
      "267  267           E\n",
      "268  268          ET\n",
      "269  269           T\n",
      "270  270           T\n",
      "271  271           M\n",
      "272  272           E\n",
      "273  273           M\n",
      "274  274           M\n",
      "275  275          ET\n",
      "276  276           T\n",
      "277  277          ET\n",
      "278  278           M\n",
      "279  279           E\n",
      "280  280           E\n",
      "281  281           E\n",
      "282  282           E\n",
      "283  283           T\n",
      "284  284           E\n",
      "285  285           T\n",
      "286  286           M\n",
      "287  287           T\n",
      "288  288           E\n",
      "289  289           E\n",
      "290  290           E\n",
      "291  291          ET\n",
      "292  292           E\n",
      "293  293           E\n",
      "294  294           T\n",
      "295  295          ET\n",
      "296  296           E\n",
      "297  297           T\n",
      "298  298          ET\n",
      "299  299           T\n",
      "300  300           T\n",
      "301  301           T\n",
      "302  302          ET\n",
      "303  303           T\n",
      "304  304           E\n",
      "305  305           T\n",
      "306  306           T\n",
      "307  307           E\n",
      "308  308           E\n",
      "309  309           E\n",
      "310  310           T\n",
      "311  311          ET\n",
      "312  312           E\n",
      "313  313           M\n",
      "314  314           T\n",
      "315  315           E\n",
      "316  316           E\n",
      "317  317           E\n",
      "318  318           M\n",
      "319  319           T\n",
      "320  320          ET\n",
      "321  321           T\n",
      "322  322           T\n",
      "323  323           E\n",
      "324  324           E\n",
      "325  325           T\n",
      "326  326           T\n",
      "327  327           M\n",
      "328  328           T\n",
      "329  329           E\n",
      "330  330           T\n",
      "331  331           E\n",
      "332  332          ET\n",
      "333  333           T\n",
      "334  334           T\n",
      "335  335          ET\n",
      "336  336           M\n",
      "337  337           E\n",
      "338  338          ET\n",
      "339  339           E\n",
      "340  340          ET\n",
      "341  341           T\n",
      "342  342           T\n",
      "343  343           T\n",
      "344  344           T\n",
      "345  345           T\n",
      "346  346           M\n",
      "347  347           T\n",
      "348  348           M\n",
      "349  349           T\n",
      "350  350           T\n",
      "351  351           T\n",
      "352  352           T\n",
      "353  353           T\n",
      "354  354           M\n",
      "355  355           E\n",
      "356  356          ET\n",
      "357  357           T\n",
      "358  358           E\n",
      "359  359           T\n",
      "360  360          ET\n",
      "361  361           T\n",
      "362  362          ET\n",
      "363  363          ET\n",
      "364  364           T\n",
      "365  365           T\n",
      "366  366           M\n",
      "367  367          ET\n",
      "368  368          ET\n",
      "369  369           M\n",
      "370  370           T\n",
      "371  371          ET\n",
      "372  372           T\n",
      "373  373           T\n",
      "374  374           M\n",
      "375  375           M\n",
      "376  376           E\n",
      "377  377           M\n",
      "378  378           M\n",
      "379  379          ET\n",
      "380  380           T\n",
      "381  381           M\n",
      "382  382           T\n",
      "383  383          ET\n",
      "384  384           T\n",
      "385  385          ET\n",
      "386  386          ET\n",
      "387  387           E\n",
      "388  388           E\n",
      "389  389           T\n",
      "390  390          ET\n",
      "391  391           T\n",
      "392  392           T\n",
      "393  393           M\n",
      "394  394           E\n",
      "395  395           M\n",
      "396  396          ET\n",
      "397  397           M\n",
      "398  398           T\n",
      "399  399           T\n",
      "400  400           T\n",
      "401  401           E\n",
      "402  402           T\n",
      "403  403           M\n",
      "404  404           T\n",
      "405  405           T\n",
      "406  406          ET\n",
      "407  407           M\n",
      "408  408           T\n",
      "409  409           T\n",
      "410  410           T\n",
      "411  411           E\n",
      "412  412          ET\n",
      "413  413           T\n",
      "414  414           M\n",
      "415  415           M\n",
      "416  416           E\n",
      "417  417          ET\n",
      "418  418           E\n",
      "419  419           E\n",
      "420  420           T\n",
      "421  421           M\n",
      "422  422           T\n",
      "423  423           M\n",
      "424  424           T\n",
      "425  425           E\n",
      "426  426           E\n",
      "427  427          ET\n",
      "428  428           E\n",
      "429  429          ET\n",
      "430  430          ET\n",
      "431  431          ET\n",
      "432  432          ET\n",
      "433  433           E\n",
      "434  434           E\n",
      "435  435           M\n",
      "436  436          ET\n",
      "437  437           M\n",
      "438  438          ET\n",
      "439  439          ET\n",
      "440  440           T\n",
      "441  441           E\n",
      "442  442          ET\n",
      "443  443           E\n",
      "444  444           T\n",
      "445  445           M\n",
      "446  446           M\n",
      "447  447           M\n",
      "448  448           M\n",
      "449  449           M\n",
      "450  450           T\n",
      "451  451           E\n",
      "452  452           T\n",
      "453  453           M\n",
      "454  454           T\n",
      "455  455           M\n",
      "456  456          ET\n",
      "457  457           T\n",
      "458  458           M\n",
      "459  459           T\n",
      "460  460           T\n",
      "461  461           E\n",
      "462  462           E\n",
      "463  463          ET\n",
      "464  464           E\n",
      "465  465          ET\n",
      "466  466           T\n",
      "467  467           T\n",
      "468  468           M\n",
      "469  469           T\n",
      "470  470          ET\n",
      "471  471          ET\n",
      "472  472           T\n",
      "473  473           E\n"
     ]
    }
   ],
   "source": [
    "lrEvaluation = lrGrid.predict(pd.get_dummies(testData[features]))\n",
    "\n",
    "output = pd.DataFrame({\n",
    "    'id': testData['id'],\n",
    "    'esrb_rating': lrEvaluation\n",
    "})\n",
    "\n",
    "temp = ['J', 'E', 'ET', 'T', 'M']\n",
    "for x in range(1,5):\n",
    "    output.loc[output['esrb_rating'] == x, 'esrb_rating'] = temp[x]\n",
    "    \n",
    "output.to_csv('submission.csv', index=False)\n",
    "print(output.to_string())"
   ]
  }
 ],
 "metadata": {
  "kernelspec": {
   "display_name": "Python 3",
   "language": "python",
   "name": "python3"
  },
  "language_info": {
   "codemirror_mode": {
    "name": "ipython",
    "version": 3
   },
   "file_extension": ".py",
   "mimetype": "text/x-python",
   "name": "python",
   "nbconvert_exporter": "python",
   "pygments_lexer": "ipython3",
   "version": "3.7.10"
  },
  "papermill": {
   "default_parameters": {},
   "duration": 1369.7059,
   "end_time": "2021-10-24T22:08:59.959317",
   "environment_variables": {},
   "exception": null,
   "input_path": "__notebook__.ipynb",
   "output_path": "__notebook__.ipynb",
   "parameters": {},
   "start_time": "2021-10-24T21:46:10.253417",
   "version": "2.3.3"
  }
 },
 "nbformat": 4,
 "nbformat_minor": 5
}
